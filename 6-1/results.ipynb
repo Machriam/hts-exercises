{
 "cells": [
  {
   "cell_type": "markdown",
   "metadata": {},
   "source": [
    "# 6.1.1\n",
    "\n",
    "1. `ls ~/../data/Capsella-sequencing/RNA-seq/rawdata`\n",
    "2. "
   ]
  }
 ],
 "metadata": {
  "language_info": {
   "name": "csharp"
  }
 },
 "nbformat": 4,
 "nbformat_minor": 2
}
