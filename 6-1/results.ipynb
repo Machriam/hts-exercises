{
 "cells": [
  {
   "cell_type": "markdown",
   "metadata": {},
   "source": [
    "# 6.1.1\n",
    "\n",
    "1. `ls ~/../data/Capsella-sequencing/RNA-seq/rawdata`\n",
    "2. `gzip -dc data/Capsella-sequencing/DNA-seq/rawdata/DNA2_1.fq.gz  | awk \"NR%4==1\" | wc -l` --> 37603922 reads\n",
    "   1. Does not really make sense because of different ratios of gene expression\n",
    "3. The quality of the subsets is ok, but there are many adapters still left, see fastqc output. Some sequences are overrepresented\n",
    "   1. See `pipeline.sh`\n",
    "4. combine the adapters for trimmomatic and remove adapters, maybe a bit of bfc for polishing"
   ]
  },
  {
   "cell_type": "markdown",
   "metadata": {},
   "source": [
    "### 6.1.2\n",
    "\n",
    "1. Extract RNA and build a transcriptome and compare it, or map RNA directly to reference genome via splice mapping\n",
    "2. Chimeric assembly of all fishes and then compare the transcriptome of the single fishes against that\n",
    "3. Align with splice mapping against reference genome and compare those mappings against each other\n",
    "   1. Or make again a chimeric assembly of the transcriptome and map the individual assemblies against that"
   ]
  },
  {
   "cell_type": "markdown",
   "metadata": {},
   "source": [
    "### 6.1.3\n",
    "\n",
    "1. Splice mapping is necessary to map RNA against genome. When mapping against Transcriptome, then nothing has to be done\n",
    "2. Subjunc, STAR, OLego, MapNext, ABMapper, BBMap"
   ]
  },
  {
   "cell_type": "markdown",
   "metadata": {},
   "source": [
    "### 6.1.4\n",
    "\n",
    "1. works after saying to use python2 and linking bowtie2 and creating bowtie2 indexes\n",
    "2. default configuration?\n",
    "3. see `tophat.sh` output below\n",
    "   1. You can also give tophat a gff file annotating the genomes with the -G option\n",
    "4. see same script and output below. Because of spliced mapping it has a pretty high success rate for mapping. I do not see many sequencing errors --> bfc?\n",
    "5. In IGV you see junctions, which indicate the spliced mapping\n",
    "\n",
    "\n",
    "### tophat output\n",
    "\n",
    "```\n",
    "Left reads:\n",
    "          Input     :    241091\n",
    "           Mapped   :    217396 (90.2% of input)\n",
    "            of these:      6419 ( 3.0%) have multiple alignments (0 have >20)\n",
    "Right reads:\n",
    "          Input     :    241091\n",
    "           Mapped   :    221073 (91.7% of input)\n",
    "            of these:      6429 ( 2.9%) have multiple alignments (0 have >20)\n",
    "Unpaired reads:\n",
    "          Input     :       772\n",
    "           Mapped   :       713 (92.4% of input)\n",
    "            of these:        13 ( 1.8%) have multiple alignments (0 have >20)\n",
    "90.9% overall read mapping rate.\n",
    "\n",
    "Aligned pairs:    199340\n",
    "     of these:      6121 ( 3.1%) have multiple alignments\n",
    "                  125581 (63.0%) are discordant alignments\n",
    "30.6% concordant pair alignment rate.\n",
    "\n",
    "```\n",
    "#### flagstats\n",
    "```\n",
    "452847 + 0 in total (QC-passed reads + QC-failed reads)\n",
    "13665 + 0 secondary\n",
    "0 + 0 supplementary\n",
    "0 + 0 duplicates\n",
    "452847 + 0 mapped (100.00% : N/A)\n",
    "438469 + 0 paired in sequencing\n",
    "217396 + 0 read1\n",
    "221073 + 0 read2\n",
    "974 + 0 properly paired (0.22% : N/A)\n",
    "398680 + 0 with itself and mate mapped\n",
    "39789 + 0 singletons (9.07% : N/A)\n",
    "23618 + 0 with mate mapped to a different chr\n",
    "22022 + 0 with mate mapped to a different chr (mapQ>=5)\n",
    "\n",
    "```"
   ]
  },
  {
   "cell_type": "markdown",
   "metadata": {},
   "source": [
    "### 6.1.5\n",
    "\n",
    "1. map the reference to the genes and then make a spliced mapping and count the reads per gene.\n",
    "2. a\n",
    "3. htseq-count is a slow specialised tool, while bedtools has many other functions and counting is only one aspect\n",
    "4. see `tophat.sh` and `cat tophat_out/multicov |grep gene` to look for genes, which have more than zero reads\n",
    "5. "
   ]
  },
  {
   "cell_type": "markdown",
   "metadata": {},
   "source": [
    "### 6.1.6\n",
    "\n",
    "1. Sort against the genes and compare the respective counts of all mappings against each other\n",
    "2. Count all mappings and divide the mapping by the total count for RNA5, 6, 7 and 8 and compare the relative abundances of each RNA with another"
   ]
  }
 ],
 "metadata": {
  "language_info": {
   "name": "csharp"
  }
 },
 "nbformat": 4,
 "nbformat_minor": 2
}
