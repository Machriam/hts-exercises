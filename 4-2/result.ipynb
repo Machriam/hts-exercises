{
 "cells": [
  {
   "cell_type": "markdown",
   "metadata": {},
   "source": [
    "### 4.2.1\n",
    "\n",
    "1. A gene is made up of DNA and acts as instructions to make proteins --> functional definition\n",
    "   1. Non coding and coding genes exist --> Non coding regulate gene activity\n",
    "      1. Introns are non-coding regions between Exons (coding regions) for the same gene\n",
    "      2. Intergenic regions are regions, which may have a function as promoter, enhancer, spacer etc. but are not encoding a particular gene \n",
    "   2. From evolution a gene is a unit of heredity. Genotype is passed to offspring and leads to different phenotypes  --> evolutional definition\n",
    "2. Gene prediction is the process of finding which DNA parts encode genes\n",
    "   1. Ab Initio methods: Search for well known signals in reads, e.g. promoter and transkriptor binding sites\n",
    "      1. Promoter interact with DNA-binding proteins, which start transcription of the gene\n",
    "      2. Transkriptor binding sites: Allow proteins to bind to DNA and regulate expression of a gene\n",
    "      3. Open Reading Frames: Parts of the DNA, where the ribosome can translate the codons into aminoacids, before encountering a stop codon\n",
    "   2. Empiric methods: Find known proteins, mRNA, homologue sequences and reverse translate them --> Search for reverse translated DNA in Genome and annotate in \n",
    "      1. Probleme: Manche Gene nur z.B. im Embryo expressed\n",
    "   3. Augustus, Genscan, GeneID, GlimmerHMM, Snap --> Hidden Markov Models, which are trained on known protein sequences"
   ]
  },
  {
   "cell_type": "markdown",
   "metadata": {},
   "source": [
    "### 4.2.2\n",
    "\n",
    "1. Not so well known: Neslia Paniculata, well known: Arabidopsis Thaliana\n",
    "2. BlastN: Select a sequence from the scaffolds and paste it into blastn with Arabidopsis Thaliana as reference. Different Databases:\n",
    "   1. Genome: White spaces between alignments: rearrangement of chromosomes --> Finds only one match of a chromosome\n",
    "   2. Protein: White spaces between alignments: Not matching to any protein and dark lines are introns --> Finds many possibilities of different proteins for different stretches of the DNA\n",
    "   3. RNA: White spaces: Expressed RNA does not contain the specified sequence \n",
    "      1. RNA matches more specific, because different codons can yield the same aminoacid, therefor mutation is not problematic\n",
    "   4. Nearly the whole length matches, but with \n",
    "3. There are annotated genes, just hover it, when blasting against protein database"
   ]
  },
  {
   "cell_type": "markdown",
   "metadata": {},
   "source": [
    "### 4.2.3\n",
    "\n",
    "1. Eukaryotes\n",
    "2. Output see below:\n",
    "   1. Initial: Exon with Start Codon\n",
    "   2. Terminal: Exon with Stop Codon\n",
    "   3. Internal: Exon in between, can be merged together with donor and acceptor splice sites\n",
    "   4. Strand position can be positive or negative, because of reading directions\n",
    "   5. HMM is able to show only initial or terminal sequences, or generell incomplete sequences, because of incomplete scaffolding\n",
    "\n",
    "```\n",
    "Eukaryotic GeneMark.hmm version 3.54\n",
    "Sequence name: seq.fna\n",
    "FASTA defline: >NODE_30_length_9636_cov_43.175451\n",
    "Sequence length: 9636 bp\n",
    "G+C content: 40.40%\n",
    "Matrices file: /home/genemark/parameters/eukaryotic/Arabidopsis_thaliana/arabidopsis_thaliana.mod\n",
    "Mon Mar  4 05:13:16 2024\n",
    "\n",
    "\n",
    "Predicted genes/exons\n",
    "\n",
    "Gene Exon Strand Exon           Exon Range         Exon      Start/End\n",
    "  #    #         Type                             Length       Frame\n",
    "\n",
    "\n",
    "  1   1   -  Single             130        984        855          3 1 - -\n",
    "\n",
    "  2   1   -  Single            1956       2465        510          3 1 - -\n",
    "\n",
    "  3  11   -  Terminal          3214       3620        407          3 2 - -\n",
    "  3  10   -  Internal          3792       4041        250          1 1 - -\n",
    "  3   9   -  Internal          4153       4218         66          3 1 - -\n",
    "  3   8   -  Internal          4518       4704        187          3 3 - -\n",
    "  3   7   -  Internal          4790       4898        109          2 2 - -\n",
    "  3   6   -  Internal          4975       5189        215          1 3 - -\n",
    "  3   5   -  Internal          5761       5897        137          2 1 - -\n",
    "  3   4   -  Internal          6025       6213        189          3 1 - -\n",
    "  3   3   -  Internal          6294       8153       1860          3 1 - -\n",
    "  3   2   -  Internal          8248       8379        132          3 1 - -\n",
    "  3   1   -  Initial           8664       8888        225          3 1 - -\n",
    "\n",
    "  4   1   +  Initial           9504       9549         46          1 1 - -\n",
    "```"
   ]
  },
  {
   "cell_type": "markdown",
   "metadata": {},
   "source": [
    "### 4.2.4\n",
    "\n",
    "1. Cufflinks: First map to a reference genome and then merge sequences which align into a sequence\n",
    "   1. RNA-seq analysis purposes: Read Alignment, Transcriptome Assembly, and calculation of relative abundance of transcription of genes \n",
    "   2. More sensitive\n",
    "2. Trinity, Oases: De Novo Transcriptome assembly\n",
    "3. Problems: Embryonic Cells, to many RNA sequences for flow cell"
   ]
  }
 ],
 "metadata": {
  "language_info": {
   "name": "csharp"
  }
 },
 "nbformat": 4,
 "nbformat_minor": 2
}
