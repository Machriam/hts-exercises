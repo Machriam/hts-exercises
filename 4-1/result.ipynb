{
 "cells": [
  {
   "cell_type": "markdown",
   "metadata": {},
   "source": [
    "### 4.1.1\n",
    "\n",
    "1. Overlap layout consensus assembly first identifies overlapping regions between the reads and then creates a graph containing sequences as nodes and overlapping aminoacids as edges. Create contigs from overlapping sequences and then make a consensus to find the most probable final sequence\n",
    "2. A de Bruijn graph is a graph based upon k-mere splitted reads of a sequence. The sequence is broken into k-meres (nodes) and a link is established to all sequences, which contain k-1 bases in order after the first one. The resulting graph can then be used to construct larger contiguous reads (contigs) of the initial read sequences. It may have more than 2 edges per node\n",
    "   1. A genome should have a low number of big graphs --> those are the chromosomes\n",
    "   2. The edges constructing the correct sequence should have a similiar confidence and edges with low confidence indicate sequencing errors\n",
    "   3. Problems are Polymorphism, sequencing errors, sequencing bias like missing data, unequal coverage, Transposons, Homologs\n",
    "      1. Homologs: Orthologs are homologous genes that are the result of a speciation event. Paralogs are homologous genes that are the result of a duplication event.\n",
    "3. Create contigs from de bruijn graph\n",
    "4. Genome sequences often have repetetive regions. Along those repetetive regions sequences can be constructed together with overlap layout consensus, which are not correct. De Bruijn removes the sequencing and genome bias by splitting everything into k-meres and compare then. "
   ]
  },
  {
   "cell_type": "markdown",
   "metadata": {},
   "source": [
    "### 4.1.2\n",
    "\n",
    "1. Reads after length 90 are horrible. The flow cell seems to have a a bad tile 80, which disagrees with measurements from the other tiles for that read position. Many tiles seem to create conflicting information after position 70 in the read. There seem to be no adapters left in the sample, which is good. GC content for reads matches the theoretical distribution.\n",
<<<<<<< HEAD
    "2. `~/libs/BFC/bfc/bfc -s 1m -t16 ~/../data/Capsella-sequencing/DNA-seq/subsets-phred33/DNA1-s1M1M2_1.fq.gz | gzip -1 > ~/hts-exercises/4-1/trimmedData/DNA1-s1M1M2_1_bfc.fq.gz`"
   ]
  },
  {
   "cell_type": "code",
   "execution_count": null,
   "metadata": {
    "vscode": {
     "languageId": "polyglot-notebook"
    }
   },
   "outputs": [],
   "source": []
=======
    "2. `~/libs/BFC/bfc/bfc -s 1m -t16 ~/../data/Capsella-sequencing/DNA-seq/subsets-phred33/DNA1-s1M1M2_1.fq.gz | gzip -1 > ~/hts-exercises/4-1/trimmedData/DNA1-s1M1M2_1_bfc.fq.gz`\n",
    "3. See `pipeline.sh`"
   ]
  },
  {
   "cell_type": "markdown",
   "metadata": {},
   "source": [
    "### 4.1.3\n",
    "\n",
    "1. Spades was used, which creates a folder with contigs.fasta and scaffold.fasta\n",
    "2. spades can set different kmer sizes with the parameter -k, \n",
    "   1. It can also set paired or single read ends and mate pairs\n",
    "   2. Assembly graph for already constructed graphs to skip steps\n",
    "3. Output for spades: contigs.fasta and scaffolds.fasta. With quast i convert those to statistics about the quality\n",
    "4. bfc genome size estimation has not a large impact. \n",
    "5. Capsella rubella is self fertilizing and Capsella grandiflora has sexual reproduction, therefor mixing chromosomes. This means scaffolding for grandiflora does not work great\n",
    "   1. Error correction works better for grandiflora, but simplifies the possible genetic variance in grandiflora. \n"
   ]
  },
  {
   "cell_type": "markdown",
   "metadata": {},
   "source": [
    "### 4.1.4\n",
    "\n",
    "1. N50-Value: Let baseCount= Sum of all sequence lengths, let sequenceArray be a sorted array after sequence length for each sequence. N50 is then the first Subset from the beginning from the sequenceArray, which have a summed up length greater than baseCount/2\n",
    "   1. NG50: baseCount is the estimated genome size\n",
    "   3. Fosmid references not for denovo\n",
    "   4. COMPASS Coverage, validity, parsimony and multiplicity to trusted reference\n",
    "   5. REAPR --> For Denovo and should be easy to compute without experimental support\n",
    "2. N50 and not NG50\n",
    "   1. REAPR\n",
    "3. see above\n",
    "4. Easy to compute, easy to interpret. Other require experimental data or an existing assembly\n",
    "5. Evaluate distribution of contig/scaffold lengths, largest contig, L50 is how many sequences are required to yield 50% of all bases"
   ]
  },
  {
   "cell_type": "markdown",
   "metadata": {},
   "source": [
    "### 4.1.5\n",
    "\n",
    "1. BCM, ALLP, SOAP, NEWB, MERAC, SGA, CBCB --> Paper\n",
    "2. In the paper"
   ]
  },
  {
   "cell_type": "markdown",
   "metadata": {},
   "source": [
    "### 4.1.7\n",
    "\n",
    "1. Spades works pretty easily with quast and I have a pipeline already... \n",
    "2. For Crubella trimming and error correcting works best --> Consensus is easy, because the target is well defined\n",
    "   1. For Grandiflora just cropping, maybe because consensus is not well defined. When there is a equal chance for a base to Substitute, then you have a consensus on 50:50 distribution\n",
    "3. Done\n",
    "4. Maybe"
   ]
  },
  {
   "cell_type": "markdown",
   "metadata": {},
   "source": [
    "### 4.1.8\n",
    "\n",
    "1. First proposal to draft genome sequence of human genome and then finish in a second phase --> shotgun strategy and hierarchical sequencing --> Make low resolution map of genome and do shotgun sequencing with subsets of whole genome to eliminate problems with duplication of bases\n",
    "   1. Panda the same approach \n",
    "   2. First whole genome sequencing of cauliflower mosaic virus 1981 --> There sequencing and assembling paired reads came up\n",
    "   3. The mosquito genome was difficult to assemble with a failed project in 2007. Problems were to short contigs and to many gaps. chromosome-length scaffolds could be constructed. In 2018 the problem was solved by using long reads. Contig reduction of 93%\n",
    "2. More long reads, as they decrease computational load aswell \n",
    "3. Bacteria exchange genomes via plasmids with each other. Therefor it is difficult to find all possible variations in the genome. But the genome is much shorter. Mutations are much more likely aswell\n",
    "   1. Many organisms can be multiplexed at once on a flow cell, helping with finding the possible variations\n",
    "   2. Bacterial genome has fewer repeats --> short reads are worthwile\n",
    "   3. Bacteria are haploid --> easier to sequence"
   ]
  },
  {
   "cell_type": "markdown",
   "metadata": {},
   "source": [
    "### 4.1.9\n",
    "\n",
    "1. `/mnt/silo/hts2024/ckappel/bin/canu/canu-2.2/bin/canu -p unknown -d assembly useGrid=false genomeSize=1.5m -pacbio /mnt/silo/hts2024/data/unknown/unknown-pacbio.fq.gz ` output see below, canu detects overlaps, generates sequence consensus, trims results and tries to assemble them\n",
    "2. Basic statistics output\n",
    "3. ???\n",
    "4. Assembly, Baseline, LongStitch, LRScaf, OPERA-LG\n",
    "\n",
    "```\n",
    "-- Finished on Fri Mar  1 14:40:57 2024 (furiously fast) with 3017.87 GB free disk space\n",
    "----------------------------------------\n",
    "--                             original      original\n",
    "--                            raw reads     raw reads\n",
    "--   category                w/overlaps  w/o/overlaps\n",
    "--   -------------------- ------------- -------------\n",
    "--   Number of Reads               1948            79\n",
    "--   Number of Bases           24729676        141373\n",
    "--   Coverage                    16.486         0.094\n",
    "--   Median                        9765          1452\n",
    "--   Mean                         12694          1789\n",
    "--   N50                          19398          2414\n",
    "--   Minimum                       1003             0\n",
    "--   Maximum                      58917         12199\n",
    "--   \n",
    "--                                        --------corrected---------  ----------rescued----------\n",
    "--                             evidence                     expected                     expected\n",
    "--   category                     reads            raw     corrected            raw     corrected\n",
    "--   -------------------- -------------  ------------- -------------  ------------- -------------\n",
    "--   Number of Reads               2012           1947          1947              0             0\n",
    "--   Number of Bases           24871049       24670759      24391075              0             0\n",
    "--   Coverage                    16.581         16.447        16.261          0.000         0.000\n",
    "--   Median                        9472           9757          9667              0             0\n",
    "--   Mean                         12361          12671         12527              0             0\n",
    "--   N50                          19287          19354         19357              0             0\n",
    "--   Minimum                       1002           1003           452              0             0\n",
    "--   Maximum                      58917          56953         56942              0             0\n",
    "--   \n",
    "--                        --------uncorrected--------\n",
    "--                                           expected\n",
    "--   category                       raw     corrected\n",
    "--   -------------------- ------------- -------------\n",
    "--   Number of Reads                 80            80\n",
    "--   Number of Bases             200290         58906\n",
    "--   Coverage                     0.134         0.039\n",
    "--   Median                        1454             0\n",
    "--   Mean                          2503           736\n",
    "--   N50                           3548             0\n",
    "--   Minimum                          0             0\n",
    "--   Maximum                      58917         58906\n",
    "```"
   ]
>>>>>>> master
  }
 ],
 "metadata": {
  "language_info": {
   "name": "csharp"
  }
 },
 "nbformat": 4,
 "nbformat_minor": 2
}
