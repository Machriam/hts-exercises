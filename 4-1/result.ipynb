{
 "cells": [
  {
   "cell_type": "markdown",
   "metadata": {},
   "source": [
    "### 4.1.1\n",
    "\n",
    "1. Overlap layout consensus assembly first identifies overlapping regions between the reads and then creates a graph containing sequences as nodes and overlapping aminoacids as edges. Create contigs from overlapping sequences and then make a consensus to find the most probable final sequence\n",
    "2. A de Bruijn graph is a graph based upon k-mere splitted reads of a sequence. The sequence is broken into k-meres (nodes) and a link is established to all sequences, which contain k-1 bases in order after the first one. The resulting graph can then be used to construct larger contiguous reads (contigs) of the initial read sequences. It may have more than 2 edges per node\n",
    "   1. A genome should have a low number of big graphs --> those are the chromosomes\n",
    "   2. The edges constructing the correct sequence should have a similiar confidence and edges with low confidence indicate sequencing errors\n",
    "   3. Problems are Polymorphism, sequencing errors, sequencing bias like missing data, unequal coverage, Transposons, Homologs\n",
    "      1. Homologs: Orthologs are homologous genes that are the result of a speciation event. Paralogs are homologous genes that are the result of a duplication event.\n",
    "3. Create contigs from de bruijn graph\n",
    "4. Genome sequences often have repetetive regions. Along those repetetive regions sequences can be constructed together with overlap layout consensus, which are not correct. De Bruijn removes the sequencing and genome bias by splitting everything into k-meres and compare then. "
   ]
  },
  {
   "cell_type": "markdown",
   "metadata": {},
   "source": [
    "### 4.1.2\n",
    "\n",
    "1. Reads after length 90 are horrible. The flow cell seems to have a a bad tile 80, which disagrees with measurements from the other tiles for that read position. Many tiles seem to create conflicting information after position 70 in the read. There seem to be no adapters left in the sample, which is good. GC content for reads matches the theoretical distribution.\n",
    "2. `~/libs/BFC/bfc/bfc -s 1m -t16 ~/../data/Capsella-sequencing/DNA-seq/subsets-phred33/DNA1-s1M1M2_1.fq.gz | gzip -1 > ~/hts-exercises/4-1/trimmedData/DNA1-s1M1M2_1_bfc.fq.gz`"
   ]
  },
  {
   "cell_type": "code",
   "execution_count": null,
   "metadata": {
    "vscode": {
     "languageId": "polyglot-notebook"
    }
   },
   "outputs": [],
   "source": []
  }
 ],
 "metadata": {
  "language_info": {
   "name": "csharp"
  }
 },
 "nbformat": 4,
 "nbformat_minor": 2
}
