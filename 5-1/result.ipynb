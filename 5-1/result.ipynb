{
 "cells": [
  {
   "cell_type": "markdown",
   "metadata": {},
   "source": [
    "### 5.1.1\n",
    "\n",
    "1. Align against reference Capsella rubella\n",
    "   1. Arabidopsis has only 5 chromosomes and smaller genome --> therefor not taking that\n",
    "   2. Neslia raw data is not accessible\n",
    "2. Monte Gargano (Italy) reference strain. Reads were collected with Roche 454 XLR and Illumina GAIIx machines. Sanger sequencing\n",
    "   1. Assembled with Arachne and produced 1859 scaffolds\n",
    "   2. "
   ]
  },
  {
   "cell_type": "markdown",
   "metadata": {},
   "source": [
    "### 5.1.3\n",
    "\n",
    "1. downloaded\n",
    "2. Genomic data in gff format, which describes genes and other features of DNA, RNA and protein sequences\n",
    "   1. Protein data in faa format --> fasta\n",
    "   2. rna data in fna format --> predicted \n",
    "   3. cds from genomic --> fasta file, which contain the protein coding sequences. Starts with ATG and ends with stop codon (coding sequence CDS)\n",
    "   4. GCF*.fna --> scaffolds\n",
    "3. GCF*.fna file"
   ]
  },
  {
   "cell_type": "markdown",
   "metadata": {},
   "source": [
    "### 5.1.4\n",
    "\n",
    "1. used minimap2 instead --> ok gives weird file\n",
    "   1. `bwa index ~/hts-exercises/5-1/crubellaData/ncbi_dataset/data/GCF_000375325.1/GCF_000375325.1_Caprub1_0_genomic.fna `\n",
    "   2. `bwa mem ./crubellaData/ncbi_dataset/data/GCF_000375325.1/GCF_000375325.1_Caprub1_0_genomic.fna ~/../data/Capsella-sequencing/DNA-seq/subsets-phred33/Cru_1.fq.gz > readmappingBWA.sam` actually a CRAM file?\n",
    "   3. `samtools view readmappingBWA.sam > readmappingBWA.bam` actually a sam file as output\n",
    "2. Done in readmapping.sam\n",
    "3. Sam file -->\n",
    " \n",
    "```\n",
    "Col\tField\tType\tBrief description\n",
    "1\tQNAME\tString\tQuery template NAME\n",
    "2\tFLAG\tInt\tbitwise FLAG\n",
    "3\tRNAME\tString\tReferences sequence NAME\n",
    "4\tPOS\tInt\t1- based leftmost mapping POSition\n",
    "5\tMAPQ\tInt\tMAPping Quality\n",
    "6\tCIGAR\tString\tCIGAR string\n",
    "7\tRNEXT\tString\tRef. name of the mate/next read\n",
    "8\tPNEXT\tInt\tPosition of the mate/next read\n",
    "9\tTLEN\tInt\tobserved Template LENgth\n",
    "10\tSEQ\tString\tsegment SEQuence\n",
    "11\tQUAL\tString\tASCII of Phred-scaled base QUALity+33\n",
    "```"
   ]
  },
  {
   "cell_type": "markdown",
   "metadata": {},
   "source": [
    "### 5.1.5\n",
    "\n",
    "1. SamTools is a set of utilities for post processing short DNA sequence read alignments in SAM, BAM and CRAM formats\n",
    "   1. It consumes outputs by short read aligners like bwa\n",
    "   2. SAM are human readable and BAM are their binary equivalents. CRAm is a colun oriented binary container format\n",
    "   3. view command can select and filter data. sort sorts a BAM file based on the position in the reference\n",
    "   4. index creates a new index file. Output is *.sam.sai or *.bam.bai\n",
    "   5. tview is an interactive ascii based viewer to visualize alignments\n",
    "2. Done\n",
    "3. See above\n",
    "4. "
   ]
  },
  {
   "cell_type": "markdown",
   "metadata": {},
   "source": []
  }
 ],
 "metadata": {
  "language_info": {
   "name": "csharp"
  }
 },
 "nbformat": 4,
 "nbformat_minor": 2
}
