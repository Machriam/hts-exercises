{
 "cells": [
  {
   "cell_type": "markdown",
   "metadata": {},
   "source": [
    "### 5.1.1\n",
    "\n",
    "1. Align against reference Capsella rubella\n",
    "   1. Arabidopsis has only 5 chromosomes and smaller genome --> therefor not taking that\n",
    "   2. Neslia raw data is not accessible\n",
    "2. Monte Gargano (Italy) reference strain. Reads were collected with Roche 454 XLR and Illumina GAIIx machines. Sanger sequencing\n",
    "   1. Assembled with Arachne and produced 1859 scaffolds\n",
    "   2. "
   ]
  },
  {
   "cell_type": "markdown",
   "metadata": {},
   "source": [
    "### 5.1.2\n",
    "\n",
    "1. Blast is to slow for short read mapping against the whole genome. Read mapping is finding the genes, where the scaffolds are coming from. Aligning the scaffolds against a reference.\n",
    "2. "
   ]
  },
  {
   "cell_type": "markdown",
   "metadata": {},
   "source": [
    "### 5.1.3\n",
    "\n",
    "1. downloaded\n",
    "2. Genomic data in gff format, which describes genes and other features of DNA, RNA and protein sequences\n",
    "   1. Protein data in faa format --> fasta\n",
    "   2. rna data in fna format --> predicted \n",
    "   3. cds from genomic --> fasta file, which contain the protein coding sequences. Starts with ATG and ends with stop codon (coding sequence CDS)\n",
    "   4. GCF*.fna --> scaffolds\n",
    "3. GCF*.fna file"
   ]
  },
  {
   "cell_type": "markdown",
   "metadata": {},
   "source": [
    "### 5.1.4\n",
    "\n",
    "1. used minimap2 instead --> ok gives weird file\n",
    "   1. `bwa index ~/hts-exercises/5-1/crubellaData/ncbi_dataset/data/GCF_000375325.1/GCF_000375325.1_Caprub1_0_genomic.fna `\n",
    "      1. Better way of indexing: `mkdir ~/hts-exercises/5-1/crubellaData/ncbi_dataset/data/idx && ln -s ~/hts-exercises/5-1/crubellaData/ncbi_dataset/data/GCF_000375325.1/GCF_000375325.1_Caprub1_0_genomic.fna ~/hts-exercises/5-1/crubellaData/ncbi_dataset/data/idx/ref && bwa index ~/hts-exercises/5-1/crubellaData/ncbi_dataset/data/idx/ref`\n",
    "      2. Index is then in a well known folder and does not pollute the original data\n",
    "   2. `bwa mem ./crubellaData/ncbi_dataset/data/idx/ref ~/../data/Capsella-sequencing/DNA-seq/subsets-phred33/Cru_*.fq.gz > readmapping.sam`\n",
    "      1. First comes the header with @SQ   SN:NW_006...after that the SAM entries, see below\n",
    "   3. `samtools view -hSbo readmapping.bam readmapping.sam`\n",
    "   4. `samtools sort readmapping.bam -o readmapping.sorted`\n",
    "   5. `samtools index readmapping.sorted`\n",
    "   6. `samtools tview readmapping.sorted ~/hts-exercises/5-1/crubellaData/ncbi_dataset/data/GCF_000375325.1/GCF_000375325.1_Caprub1_0_genomic.fna`\n",
    "2. Done in readmapping.sam\n",
    "3. Sam file --> Position 1368244 in the reference file for gene NW_006238923.1\n",
    "\n",
    "```\n",
    "      @SQ\tSN:NW_006238154.1\tLN:203\n",
    "@PG\tID:bwa\tPN:bwa\tVN:0.7.15-r1140\tCL:bwa mem ./crubellaData/ncbi_dataset/data/idx/ref /mnt/silo/hts2024/alehmann/../data/Capsella-sequencing/DNA-seq/subsets-phred33/Cru_1.fq.gz /mnt/silo/hts2024/alehmann/../data/Capsella-sequencing/DNA-seq/subsets-phred33/Cru_2.fq.gz\n",
    "\n",
    "N73019:2:1:1147:14001#0\t83\tNW_006238923.1\t1368454\t60\t120M\t=\t1368244\t-330\tTGGAATGCTCTTCCTCTTGAGACTCCTCCATCGACATTACAGACATATTTAAATGTTTTGCCCACCATTGGCTTACCTAGAGGAAGAAGAGTGAGAAAAGAAAAAACAACAAGACTACTA\t##########?)?A,A<<A-AAA+??-@:?4??>=5:5A=DDD:ACC5CA4B==-?:.5=9)9*,5:B=.-AD-DDD-?D:CAC=BD=D=ACAC=3B@BB<B>DBB?@DDB;;@===.>:\tNM:i:1\tMD:Z:61A58\tAS:i:115\tXS:i:20\n",
    "\n",
    "N73019:2:1:1147:14001#0\t163\tNW_006238923.1\t1368244\t60\t120M\t=\t1368454\t330\tGAAACAAACTCATGAACTGTAACATCTGAGGCCAGATCACTCAAGAAAAACGCTTTTCCAATAGCAGTAAAACTTTAGGCAGAACAGCGAAGATAATCCAAAAGACGCTGCATCACACTG\tB5.-1?A=;5:CB=:C=5-=@;@#################################################################################################\tNM:i:10\tMD:Z:10T13G8T14C1T1T22G8A20A11A2\tAS:i:72\tXS:i:0\n",
    "```\n",
    " \n",
    "```\n",
    "Col\tField\tType\tBrief description\n",
    "1\tQNAME\tString\tQuery template NAME\n",
    "2\tFLAG\tInt\tbitwise FLAG\n",
    "3\tRNAME\tString\tReferences sequence NAME\n",
    "4\tPOS\tInt\t1- based leftmost mapping POSition\n",
    "5\tMAPQ\tInt\tMAPping Quality\n",
    "6\tCIGAR\tString\tCIGAR string --> Compressed representation of alignment. For example indicates Matches, deletions, insertions.\n",
    "7\tRNEXT\tString\tRef. name of the mate/next read\n",
    "8\tPNEXT\tInt\tPosition of the mate/next read\n",
    "9\tTLEN\tInt\tobserved Template LENgth\n",
    "10\tSEQ\tString\tsegment SEQuence\n",
    "11\tQUAL\tString\tASCII of Phred-scaled base QUALity+33\n",
    "```"
   ]
  },
  {
   "cell_type": "markdown",
   "metadata": {},
   "source": [
    "#### What are we doing here:\n",
    "\n",
    "- Overview: DNA -> shearing -> fragments -> size slection on the gel -> size selected fragments\n",
    "- -> ligate technical sequences (adapters, primers, indexes)\n",
    "- pppppppp_primer1_NNNNNNNNNNNNNNNNNNNNNNNNNNN_primer2_ppppppp --> the whole thing in between is the template or fragment\n",
    "- segment1 and segment2 are the reads from the fragment left and right\n",
    "\n",
    "### 5.1.5\n",
    "\n",
    "1. SamTools is a set of utilities for post processing short DNA sequence read alignments in SAM, BAM and CRAM formats\n",
    "   1. It consumes outputs by short read aligners like bwa\n",
    "   2. SAM are human readable and BAM are their binary equivalents. CRAm is a colun oriented binary container format\n",
    "   3. view command can select and filter data. sort sorts a BAM file based on the position in the reference\n",
    "   4. index creates a new index file. Output is *.sam.sai or *.bam.bai\n",
    "   5. tview is an interactive ascii based viewer to visualize alignments\n",
    "2. Done\n",
    "3. See above\n",
    "4. See 5.1.4\n",
    "5. `~/libs/samtools-1.19.2/misc/plot-bamstats -p ./output/output ./readmapping.stats`\n",
    "   1. Or: `samtools flagstat readmapping.sorted` --> see output below\n",
    "   2. `samtools idxstats readmapping.sorted | less` --> Identifier of the sequence in the reference, sequence length, # mapped read-segments, # unmapped read-segments. unmapped read-segments are paired reads, where one pair could be aligned, but not the other one\n",
    "6. 0.6% are unmapped see below, `samtools view -f4 readmapping.sam` f means include flags, F means exclude flags\n",
    "   \n",
    "Samtools Flags:\n",
    "\n",
    "```\n",
    "Flags:\n",
    "        0x1     PAIRED        .. paired-end (or multiple-segment) sequencing technology\n",
    "        0x2     PROPER_PAIR   .. each segment properly aligned according to the aligner\n",
    "        0x4     UNMAP         .. segment unmapped\n",
    "        0x8     MUNMAP        .. next segment in the template unmapped\n",
    "        0x10    REVERSE       .. SEQ is reverse complemented\n",
    "        0x20    MREVERSE      .. SEQ of the next segment in the template is reversed\n",
    "        0x40    READ1         .. the first segment in the template\n",
    "        0x80    READ2         .. the last segment in the template\n",
    "        0x100   SECONDARY     .. secondary alignment\n",
    "        0x200   QCFAIL        .. not passing quality controls\n",
    "        0x400   DUP           .. PCR or optical duplicate\n",
    "        0x800   SUPPLEMENTARY .. supplementary alignment\n",
    "```\n",
    "\n",
    "```\n",
    "1357452 + 0 in total (QC-passed reads + QC-failed reads)\n",
    "0 + 0 secondary\n",
    "3938 + 0 supplementary\n",
    "0 + 0 duplicates\n",
    "1349517 + 0 mapped (99.42% : N/A)\n",
    "1353514 + 0 paired in sequencing\n",
    "676757 + 0 read1\n",
    "676757 + 0 read2\n",
    "1335324 + 0 properly paired (98.66% : N/A)\n",
    "1342946 + 0 with itself and mate mapped\n",
    "2633 + 0 singletons (0.19% : N/A)\n",
    "5420 + 0 with mate mapped to a different chr\n",
    "3843 + 0 with mate mapped to a different chr (mapQ>=5)\n",
    "```"
   ]
  },
  {
   "cell_type": "markdown",
   "metadata": {},
   "source": [
    "### 5.1.6\n",
    "\n",
    "1. Viewer to show the alignment to the reference genom in text. Top line shows N's if reference is unknown, underneath is the consensus. Dot is a match for forward strand, comma is a match for reverse strand\n",
    "2. `samtools tview -p NW_006238923.1:1000000 readmapping.sorted crubellaData/ncbi_dataset/data/idx/ref`\n",
    "   1. When you see a letter, then \n",
    "3. Yes, everytime you see a letter\n",
    "4. When you go down and move right, then you see whether there are the same amount of lines"
   ]
  },
  {
   "cell_type": "markdown",
   "metadata": {},
   "source": [
    "### 5.1.7\n",
    "\n"
   ]
  }
 ],
 "metadata": {
  "language_info": {
   "name": "csharp"
  }
 },
 "nbformat": 4,
 "nbformat_minor": 2
}
