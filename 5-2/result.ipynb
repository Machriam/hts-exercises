{
 "cells": [
  {
   "cell_type": "markdown",
   "metadata": {},
   "source": [
    "### 5.2.1\n",
    "\n",
    "1. Variant calling is the identifications of sequence variations in genomic DNA compared to reference genome\n",
    "   1. Germline variants are for all cells of an organism \n",
    "   2. Somatic Variants are mutations in the lifetime of a cell\n",
    "   3. Examples are Indels, SNPs, inversions, translocations and CNVs\n",
    "   4. Indel realignment is a method of improving alignment --> Alignment with reads containing either Deletions or SNPs are converted to all Deletions and therefor removing the SNPs\n",
    "2. `samtools mpileup -uf ../crubellaData/ncbi_dataset/data/idx/ref subsets-phred33-bfc.sorted.bam > subsets-phred33-bfc.mpileup`\n",
    "   1. mpileup command transposes the mapped data in a sorted BAM file fully to genome-centric coordinates. It starts at the first base on the first chromosome for which there is coverage and prints out one line per base. Each line has information on every base observed in the raw data at that base position along with a lot of auxiliary information depending on which flags are set. It calculates the Bayseian prior probability given by the data, but does not estimate a real genotype.\n",
    "   2. Better: `bcftools2 mpileup -f ../crubellaData/ncbi_dataset/data/idx/ref subsets-phred33-bfc.sorted.bam | bcftools2 call -mv -Ob > subsets-phred33-bfc.bcf`\n",
    "   3. Then convert it with `bcftool2 view subsets-phred33-bfc.bcf > subsets-phred33-bfc.vcf`\n",
    "3. vcf format: name of sequence, 1 based position of variation, name of variation, reference base or bases, alternatives, quality, used filter, other infos\n",
    "4. you can find the variants in igv when searching for it. Minor allele count is the lesser species' count of SNPs. Major allele count the upper one consequently\n",
    "5. `cat ./mappingGem/subsets-phred33-bfc.vcf | grep \"0/0.*1/1\"` --> can only be used, when two samples are somehow tagged together. First must show 0/0 and the second 1/1. When not comparing only filtering for 1/1\n",
    "\n",
    "\n",
    "#### VCF Format\n",
    "```\n",
    "\n",
    "```"
   ]
  },
  {
   "cell_type": "markdown",
   "metadata": {},
   "source": [
    "### 5.2.2\n",
    "\n",
    "1. FreeBayes, GATK, DiBayes\n",
    "2. See `variantCallingFreeBayes.sh`. Freebayes output has much more annotations, time for the subsets seems about to be the same"
   ]
  },
  {
   "cell_type": "markdown",
   "metadata": {},
   "source": [
    "### 5.2.3\n",
    "\n",
    "1. Determining impact of genetic variants: \n",
    "   1. What genes and transcripts are affected\n",
    "   2. Where did the variant occur --> within coding/non-coding regions or regularatory regions\n",
    "   3. What happens to the protein sequence\n",
    "2. Problems composing and aligning the variants --> incorrect variants cause incorrect effect prediction\n",
    "3. Move some folders around, setup some implicitely named links and read wrong documentation, where they cannot even close xml tags....\n",
    "4. whatever --> data/sequences.fa, genes.gff must be there exactly with that name\n",
    "5. `java -jar /mnt/silo/hts2024/ckappel/bin/snpEff/snpEff/snpEff.jar -v Caprub1_0 ./variantCallingFreebayes/subsets-phred33-bfc.vcf > ./variantCallingFreebayes/snpEff.vcf`\n",
    "6. Output is another vcf file with information about missense variant, exons, pseudogene and so on. And a html summary and a text file in a table format for excel. Html shows number of variants and variants rate, how many variants are there by type, how many high/low/moderate impacts, list of functional classes --> how many missense, nonsense, silent \n",
    "   1. The text file contains a list of the genes and a summary what variants happened to that gene\n",
    "7. Problem you need a full annotated sequence of the haplotype, which is problematic to do with only short reads, because you can not distinguish which variants are on which type. Even scaffolding with old errornous long sequencing data was not enough. It is only now possible with hifi reads\n",
    "\n",
    "#### Example\n",
    "```\n",
    "NW_006238923.1\t508446\t.\tA\tG\t3.7766\t.\tDP=1;SGB=-0.379885;MQ0F=0;AC=2;AN=2;DP4=0,0,0,1;MQ=31;ANN=G|missense_variant|MODERATE|exon-XM_023790276.1-1|GENE_exon-XM_023790276.1-1|transcript|rna-XM_023790276.1|protein_coding|2/7|c.91T>C|p.Phe31Leu|223/1343|91/819|31/272||,G|missense_variant|MODERATE|exon-XM_006303148.2-1|GENE_exon-XM_006303148.2-1|transcript|rna-XM_006303148.2|protein_coding|2/7|c.91T>C|p.Phe31Leu|235/1355|91/819|31/272||,G|upstream_gene_variant|MODIFIER|LOC17898674|gene-LOC17898674|transcript|XM_006303115.2|protein_coding||c.-3705A>G|||||3706|WARNING_TRANSCRIPT_NO_START_CODON,G|upstream_gene_variant|MODIFIER|exon-XM_006303115.2-1|GENE_exon-XM_006303115.2-1|transcript|rna-XM_006303115.2|protein_coding||c.-3779A>G|||||3706|,G|downstream_gene_variant|MODIFIER|LOC17897851|gene-LOC17897851|transcript|XM_006307066.2|protein_coding||c.*3642A>G|||||3642|WARNING_TRANSCRIPT_NO_START_CODON,G|downstream_gene_variant|MODIFIER|exon-XM_006307066.2-1|GENE_exon-XM_006307066.2-1|transcript|rna-XM_006307066.2|protein_coding||c.*3703A>G|||||3642|,G|downstream_gene_variant|MODIFIER|LOC17897369|LOC17897369|transcript|gene-LOC17897369|pseudogene||n.*2147A>G|||||2147|,G|non_coding_transcript_variant|MODIFIER|LOC17899354|gene-LOC17899354|transcript|XM_006303148.2|protein_coding||||||||WARNING_TRANSCRIPT_NO_START_CODON,G|non_coding_transcript_variant|MODIFIER|LOC17899354|gene-LOC17899354|transcript|XM_023790276.1|protein_coding||||||||WARNING_TRANSCRIPT_NO_START_CODON\tGT:PL\t1/1:31,3,0\n",
    "NW_006238923.1\t508454\t.\tC\tA\t3.7766\t.\tDP=1;SGB=-0.379885;MQ0F=0;AC=2;AN=2;DP4=0,0,0,1;MQ=31;ANN=A|missense_variant|MODERATE|exon-XM_023790276.1-1|GENE_exon-XM_023790276.1-1|transcript|rna-XM_023790276.1|protein_coding|2/7|c.83G>T|p.Arg28Leu|215/1343|83/819|28/272||,A|missense_variant|MODERATE|exon-XM_006303148.2-1|GENE_exon-XM_006303148.2-1|transcript|rna-XM_006303148.2|protein_coding|2/7|c.83G>T|p.Arg28Leu|227/1355|83/819|28/272||,A|upstream_gene_variant|MODIFIER|LOC17898674|gene-LOC17898674|transcript|XM_006303115.2|protein_coding||c.-3697C>A|||||3698|WARNING_TRANSCRIPT_NO_START_CODON,A|upstream_gene_variant|MODIFIER|exon-XM_006303115.2-1|GENE_exon-XM_006303115.2-1|transcript|rna-XM_006303115.2|protein_coding||c.-3771C>A|||||3698|,A|downstream_gene_variant|MODIFIER|LOC17897851|gene-LOC17897851|transcript|XM_006307066.2|protein_coding||c.*3650C>A|||||3650|WARNING_TRANSCRIPT_NO_START_CODON,A|downstream_gene_variant|MODIFIER|exon-XM_006307066.2-1|GENE_exon-XM_006307066.2-1|transcript|rna-XM_006307066.2|protein_coding||c.*3711C>A|||||3650|,A|downstream_gene_variant|MODIFIER|LOC17897369|LOC17897369|transcript|gene-LOC17897369|pseudogene||n.*2155C>A|||||2155|,A|non_coding_transcript_variant|MODIFIER|LOC17899354|gene-LOC17899354|transcript|XM_006303148.2|protein_coding||||||||WARNING_TRANSCRIPT_NO_START_CODON,A|non_coding_transcript_variant|MODIFIER|LOC17899354|gene-LOC17899354|transcript|XM_023790276.1|protein_coding||||||||WARNING_TRANSCRIPT_NO_START_CODON\tGT:PL\t1/1:31,3,0\n",
    "NW_006238923.1\t915367\t.\tA\tT\t7.30814\t.\tDP=4;VDB=0.152777;SGB=-0.556411;MQSBZ=1;MQ0F=0.5;AC=2;AN=2;DP4=0,0,3,1;MQ=15;ANN=T|upstream_gene_variant|MODIFIER|exon-XM_006305982.2-1|GENE_exon-XM_006305982.2-1|transcript|rna-XM_006305982.2|protein_coding||c.-4865T>A|||||4865|,T|upstream_gene_variant|MODIFIER|exon-XR_002832527.1-1|GENE_exon-XR_002832527.1-1|transcript|rna-XR_002832527.1|pseudogene||n.-64T>A|||||64|,T|upstream_gene_variant|MODIFIER|LOC111828823|gene-LOC111828823|transcript|XR_002832583.1|snoRNA||n.-10A>T|||||11|,T|upstream_gene_variant|MODIFIER|LOC111828817|gene-LOC111828817|transcript|XR_002832577.1|snoRNA||n.-170A>T|||||171|,T|upstream_gene_variant|MODIFIER|LOC111828778|gene-LOC111828778|transcript|XR_002832539.1|snoRNA||n.-312A>T|||||313|,T|upstream_gene_variant|MODIFIER|LOC111828785|gene-LOC111828785|transcript|XR_002832546.1|snoRNA||n.-451A>T|||||452|,T|upstream_gene_variant|MODIFIER|LOC17898880|gene-LOC17898880|transcript|XM_006305995.2|protein_coding||c.-980A>T|||||981|WARNING_TRANSCRIPT_NO_START_CODON,T|upstream_gene_variant|MODIFIER|TRNAD-GUC|gene-TRNAD-GUC|transcript|rna-TRNAD-GUC|protein_coding||c.-2536A>T|||||2536|WARNING_TRANSCRIPT_MULTIPLE_STOP_CODONS,T|upstream_gene_variant|MODIFIER|LOC17897443|gene-LOC17897443|transcript|XM_006307439.2|protein_coding||c.-2726A>T|||||2727|WARNING_TRANSCRIPT_NO_START_CODON,T|downstream_gene_variant|MODIFIER|LOC17899631|gene-LOC17899631|transcript|XM_006305982.2|protein_coding||c.*4865A>T|||||4865|WARNING_TRANSCRIPT_NO_START_CODON,T|downstream_gene_variant|MODIFIER|LOC17897279|gene-LOC17897279|transcript|XM_023789908.1|protein_coding||c.*1358A>T|||||1358|WARNING_TRANSCRIPT_NO_START_CODON,T|downstream_gene_variant|MODIFIER|exon-XM_023789908.1-1|GENE_exon-XM_023789908.1-1|transcript|rna-XM_023789908.1|protein_coding||c.*1358A>T|||||1358|,T|downstream_gene_variant|MODIFIER|LOC111828766|gene-LOC111828766|transcript|XR_002832527.1|snoRNA||n.*64A>T|||||64|,T|downstream_gene_variant|MODIFIER|exon-XR_002832583.1-1|GENE_exon-XR_002832583.1-1|transcript|rna-XR_002832583.1|pseudogene||n.*11T>A|||||11|,T|downstream_gene_variant|MODIFIER|exon-XR_002832577.1-1|GENE_exon-XR_002832577.1-1|transcript|rna-XR_002832577.1|pseudogene||n.*171T>A|||||171|,T|downstream_gene_variant|MODIFIER|exon-XR_002832539.1-1|GENE_exon-XR_002832539.1-1|transcript|rna-XR_002832539.1|pseudogene||n.*313T>A|||||313|,T|downstream_gene_variant|MODIFIER|exon-XR_002832546.1-1|GENE_exon-XR_002832546.1-1|transcript|rna-XR_002832546.1|pseudogene||n.*452T>A|||||452|,T|downstream_gene_variant|MODIFIER|exon-XM_006305995.2-1|GENE_exon-XM_006305995.2-1|transcript|rna-XM_006305995.2|protein_coding||c.*1078T>A|||||981|,T|downstream_gene_variant|MODIFIER|exon-XM_006307439.2-1|GENE_exon-XM_006307439.2-1|transcript|rna-XM_006307439.2|protein_coding||c.*2812T>A|||||2727|,T|intron_variant|MODIFIER|exon-XR_002835541.1-1|GENE_exon-XR_002835541.1-1|transcript|rna-XR_002835541.1|pseudogene|1/1|n.297+348T>A||||||,T|intragenic_variant|MODIFIER|LOC111832630|gene-LOC111832630|gene_variant|gene-LOC111832630|||n.915367A>T||||||\tGT:PL\t1/1:36,12,0\n",
    "```"
   ]
  }
 ],
 "metadata": {
  "language_info": {
   "name": "csharp"
  }
 },
 "nbformat": 4,
 "nbformat_minor": 2
}
