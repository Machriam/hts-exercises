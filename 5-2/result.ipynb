{
 "cells": [
  {
   "cell_type": "markdown",
   "metadata": {},
   "source": [
    "### 5.2.1\n",
    "\n",
    "1. Variant calling is the identifications of sequence variations in genomic DNA compared to reference genome\n",
    "   1. Germline variants are for all cells of an organism \n",
    "   2. Somatic Variants are mutations in the lifetime of a cell\n",
    "   3. Examples are Indels, SNPs, inversions, translocations and CNVs\n",
    "   4. Indel realignment is a method of improving alignment --> Alignment with reads containing either Deletions or SNPs are converted to all Deletions and therefor removing the SNPs\n",
    "2. `samtools mpileup -uf ../crubellaData/ncbi_dataset/data/idx/ref subsets-phred33-bfc.sorted.bam > subsets-phred33-bfc.mpileup`\n",
    "   1. mpileup command transposes the mapped data in a sorted BAM file fully to genome-centric coordinates. It starts at the first base on the first chromosome for which there is coverage and prints out one line per base. Each line has information on every base observed in the raw data at that base position along with a lot of auxiliary information depending on which flags are set. It calculates the Bayseian prior probability given by the data, but does not estimate a real genotype.\n",
    "   2. Better: `bcftools2 mpileup -f ../crubellaData/ncbi_dataset/data/idx/ref subsets-phred33-bfc.sorted.bam | bcftools2 call -mv -Ob > subsets-phred33-bfc.bcf`\n",
    "   3. Then convert it with `bcftool2 view subsets-phred33-bfc.bcf > subsets-phred33-bfc.vcf`\n",
    "3. vcf format: name of sequence, 1 based position of variation, name of variation, reference base or bases, alternatives, quality, used filter, other infos\n",
    "4. you can find the variants in igv when searching for it"
   ]
  },
  {
   "cell_type": "markdown",
   "metadata": {},
   "source": []
  }
 ],
 "metadata": {
  "language_info": {
   "name": "csharp"
  }
 },
 "nbformat": 4,
 "nbformat_minor": 2
}
